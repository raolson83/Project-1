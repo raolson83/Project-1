{
 "cells": [
  {
   "cell_type": "code",
   "execution_count": 1,
   "id": "1b4f789e",
   "metadata": {},
   "outputs": [],
   "source": [
    "# Import libraries\n",
    "import pandas as pd"
   ]
  },
  {
   "cell_type": "code",
   "execution_count": 2,
   "id": "485d6384",
   "metadata": {},
   "outputs": [
    {
     "name": "stdout",
     "output_type": "stream",
     "text": [
      "<class 'pandas.core.frame.DataFrame'>\n",
      "RangeIndex: 1416357 entries, 0 to 1416356\n",
      "Data columns (total 62 columns):\n",
      " #   Column               Non-Null Count    Dtype\n",
      "---  ------               --------------    -----\n",
      " 0   ADMYR                1416357 non-null  int64\n",
      " 1   CASEID               1416357 non-null  int64\n",
      " 2   STFIPS               1416357 non-null  int64\n",
      " 3   CBSA2010             1416357 non-null  int64\n",
      " 4   EDUC                 1416357 non-null  int64\n",
      " 5   MARSTAT              1416357 non-null  int64\n",
      " 6   SERVICES             1416357 non-null  int64\n",
      " 7   DETCRIM              1416357 non-null  int64\n",
      " 8   NOPRIOR              1416357 non-null  int64\n",
      " 9   PSOURCE              1416357 non-null  int64\n",
      " 10  ARRESTS              1416357 non-null  int64\n",
      " 11  EMPLOY               1416357 non-null  int64\n",
      " 12  METHUSE              1416357 non-null  int64\n",
      " 13  PSYPROB              1416357 non-null  int64\n",
      " 14  PREG                 1416357 non-null  int64\n",
      " 15  GENDER               1416357 non-null  int64\n",
      " 16  VET                  1416357 non-null  int64\n",
      " 17  LIVARAG              1416357 non-null  int64\n",
      " 18  DAYWAIT              1416357 non-null  int64\n",
      " 19  DSMCRIT              1416357 non-null  int64\n",
      " 20  AGE                  1416357 non-null  int64\n",
      " 21  RACE                 1416357 non-null  int64\n",
      " 22  ETHNIC               1416357 non-null  int64\n",
      " 23  DETNLF               1416357 non-null  int64\n",
      " 24  PRIMINC              1416357 non-null  int64\n",
      " 25  SUB1                 1416357 non-null  int64\n",
      " 26  SUB2                 1416357 non-null  int64\n",
      " 27  SUB3                 1416357 non-null  int64\n",
      " 28  ROUTE1               1416357 non-null  int64\n",
      " 29  ROUTE2               1416357 non-null  int64\n",
      " 30  ROUTE3               1416357 non-null  int64\n",
      " 31  FREQ1                1416357 non-null  int64\n",
      " 32  FREQ2                1416357 non-null  int64\n",
      " 33  FREQ3                1416357 non-null  int64\n",
      " 34  FRSTUSE1             1416357 non-null  int64\n",
      " 35  FRSTUSE2             1416357 non-null  int64\n",
      " 36  FRSTUSE3             1416357 non-null  int64\n",
      " 37  HLTHINS              1416357 non-null  int64\n",
      " 38  PRIMPAY              1416357 non-null  int64\n",
      " 39  FREQ_ATND_SELF_HELP  1416357 non-null  int64\n",
      " 40  ALCFLG               1416357 non-null  int64\n",
      " 41  COKEFLG              1416357 non-null  int64\n",
      " 42  MARFLG               1416357 non-null  int64\n",
      " 43  HERFLG               1416357 non-null  int64\n",
      " 44  METHFLG              1416357 non-null  int64\n",
      " 45  OPSYNFLG             1416357 non-null  int64\n",
      " 46  PCPFLG               1416357 non-null  int64\n",
      " 47  HALLFLG              1416357 non-null  int64\n",
      " 48  MTHAMFLG             1416357 non-null  int64\n",
      " 49  AMPHFLG              1416357 non-null  int64\n",
      " 50  STIMFLG              1416357 non-null  int64\n",
      " 51  BENZFLG              1416357 non-null  int64\n",
      " 52  TRNQFLG              1416357 non-null  int64\n",
      " 53  BARBFLG              1416357 non-null  int64\n",
      " 54  SEDHPFLG             1416357 non-null  int64\n",
      " 55  INHFLG               1416357 non-null  int64\n",
      " 56  OTCFLG               1416357 non-null  int64\n",
      " 57  OTHERFLG             1416357 non-null  int64\n",
      " 58  DIVISION             1416357 non-null  int64\n",
      " 59  REGION               1416357 non-null  int64\n",
      " 60  IDU                  1416357 non-null  int64\n",
      " 61  ALCDRUG              1416357 non-null  int64\n",
      "dtypes: int64(62)\n",
      "memory usage: 670.0 MB\n"
     ]
    },
    {
     "data": {
      "text/plain": [
       "0"
      ]
     },
     "execution_count": 2,
     "metadata": {},
     "output_type": "execute_result"
    }
   ],
   "source": [
    "# Read in dataframe\n",
    "df = pd.read_csv('../Dataset/TEDSA_PUF_2020.csv')\n",
    "\n",
    "# Data columns\n",
    "df.columns\n",
    "\n",
    "# Data header\n",
    "df.head()\n",
    "\n",
    "# Display basic info\n",
    "df.info()\n",
    "\n",
    "# Null values\n",
    "df.isnull().sum()\n",
    "\n",
    "# If we need to drop any values \n",
    "df_cleaned_rows = df.dropna()\n",
    "\n",
    "# Stats summary\n",
    "df.describe()\n",
    "\n",
    "# Duplicates? \n",
    "df.duplicated().sum()"
   ]
  },
  {
   "cell_type": "code",
   "execution_count": 3,
   "id": "dd90455c",
   "metadata": {},
   "outputs": [
    {
     "name": "stdout",
     "output_type": "stream",
     "text": [
      "The unique Male and Female values are: GENDER_LABEL\n",
      "Male       918299\n",
      "Female     497175\n",
      "Unknown       883\n",
      "Name: count, dtype: int64!\n"
     ]
    }
   ],
   "source": [
    "## Display unique values\n",
    "\n",
    "\n",
    "# Gender\n",
    "gender = {1: 'Male', 2: 'Female', -9: 'Unknown'}\n",
    "\n",
    "    # New coulmn named Gender_Label\n",
    "df['GENDER_LABEL'] = df['GENDER'].map(gender)\n",
    "\n",
    "gender_count = df['GENDER_LABEL'].value_counts()\n",
    "    \n",
    "    # Print\n",
    "print(f'The unique Male and Female values are: {gender_count}!')"
   ]
  },
  {
   "cell_type": "code",
   "execution_count": 4,
   "id": "448f71d3",
   "metadata": {},
   "outputs": [
    {
     "name": "stdout",
     "output_type": "stream",
     "text": [
      "The unique ethnicity values are: ETHNICITY_LABEL\n",
      "Not Hispanic or Latino    1153503\n",
      "Unknown                     63676\n",
      "Mexican                     59291\n",
      "Puerto Rican                48170\n",
      "Cuban                       46199\n",
      "Hispanic or Latino          45518\n",
      "Name: count, dtype: int64!\n"
     ]
    }
   ],
   "source": [
    "# Ethnicity\n",
    "ethnicity = {1: 'Puerto Rican', 2: 'Mexican', 3: 'Cuban', 4: 'Not Hispanic or Latino', 5: 'Hispanic or Latino', -9: 'Unknown'}\n",
    "\n",
    "    # New column named Ethnicity_Label\n",
    "df['ETHNICITY_LABEL'] = df['ETHNIC'].map(ethnicity)\n",
    "\n",
    "ethnicity_count = df['ETHNICITY_LABEL'].value_counts()\n",
    "\n",
    "    # Print\n",
    "print(f'The unique ethnicity values are: {ethnicity_count}!')"
   ]
  },
  {
   "cell_type": "code",
   "execution_count": 5,
   "id": "e0d67872",
   "metadata": {},
   "outputs": [
    {
     "name": "stdout",
     "output_type": "stream",
     "text": [
      "The unique age values are: AGE_LABEL\n",
      "30-34    252021\n",
      "25-29    223641\n",
      "35-39    213290\n",
      "40-44    154807\n",
      "55-64    143172\n",
      "45-49    117886\n",
      "50-54    112989\n",
      "21-24    102090\n",
      "18-20     37669\n",
      "15-17     28110\n",
      "65+       24028\n",
      "12-14      6654\n",
      "Name: count, dtype: int64!\n"
     ]
    }
   ],
   "source": [
    "# Age\n",
    "age = {1: '12-14', 2: '15-17', 3: '18-20', 4: '21-24', 5: '25-29', 6: '30-34', 7: '35-39', 8: '40-44', 9: '45-49', 10: '50-54', 11: '55-64', 12: '65+'}\n",
    "\n",
    "    # New column named Age_Label\n",
    "df['AGE_LABEL'] = df['AGE'].map(age)\n",
    "\n",
    "age_count = df['AGE_LABEL'].value_counts()\n",
    "\n",
    "    # Print\n",
    "print(f'The unique age values are: {age_count}!')"
   ]
  },
  {
   "cell_type": "code",
   "execution_count": 6,
   "id": "4bb8b976",
   "metadata": {},
   "outputs": [
    {
     "name": "stdout",
     "output_type": "stream",
     "text": [
      "The unique region values are: Location_by_region\n",
      "Northeast          445033\n",
      "West               363124\n",
      "Midwest            303605\n",
      "South              303333\n",
      "US jurisdiction      1262\n",
      "Name: count, dtype: int64!\n"
     ]
    }
   ],
   "source": [
    "# Location by region\n",
    "region = {0: 'US jurisdiction', 1: 'Northeast', 2: 'Midwest', 3: 'South', 4: 'West'}\n",
    "\n",
    "    # New column named Location_by_region\n",
    "df['Location_by_region'] = df['REGION'].map(region)\n",
    "\n",
    "location_region = df['Location_by_region'].value_counts()\n",
    "\n",
    "    # Print\n",
    "print(f'The unique region values are: {location_region}!')"
   ]
  },
  {
   "cell_type": "code",
   "execution_count": 7,
   "id": "f6db0fd0",
   "metadata": {},
   "outputs": [
    {
     "name": "stdout",
     "output_type": "stream",
     "text": [
      "The unique division values are: Location_by_division\n",
      "Middle Atlantic       306177\n",
      "Mountain              239269\n",
      "South Atlantic        176039\n",
      "East North Central    163748\n",
      "West North Central    139857\n",
      "New England           138856\n",
      "Pacific               123855\n",
      "West South Central     70429\n",
      "East South Central     56865\n",
      "US jurisdiction         1262\n",
      "Name: count, dtype: int64!\n"
     ]
    }
   ],
   "source": [
    "# Location by division\n",
    "division = {0: 'US jurisdiction', 1: 'New England', 2: 'Middle Atlantic', 3: 'East North Central', 4: 'West North Central', 5: 'South Atlantic', 6: 'East South Central', 7: 'West South Central', 8: 'Mountain', 9: 'Pacific'}\n",
    "\n",
    "    # New column named Location_by_division\n",
    "df['Location_by_division'] = df['DIVISION'].map(division)\n",
    "\n",
    "location_division = df['Location_by_division'].value_counts()\n",
    "\n",
    "    # Print\n",
    "print(f'The unique division values are: {location_division}!')"
   ]
  },
  {
   "cell_type": "code",
   "execution_count": 8,
   "id": "9f04a0f8",
   "metadata": {},
   "outputs": [
    {
     "name": "stdout",
     "output_type": "stream",
     "text": [
      "The unique state values are: Location_by_state\n",
      "New York                201573\n",
      "Arizona                 144377\n",
      "California              116891\n",
      "New Jersey               81368\n",
      "Colorado                 69727\n",
      "Michigan                 64535\n",
      "Massachusetts            63927\n",
      "Minnesota                50673\n",
      "Connecticut              48395\n",
      "North Carolina           42046\n",
      "Florida                  41846\n",
      "Illinois                 36211\n",
      "Georgia                  33649\n",
      "Texas                    33272\n",
      "Missouri                 26816\n",
      "Iowa                     24120\n",
      "Indiana                  23721\n",
      "Pennsylvania             23266\n",
      "South Carolina           22149\n",
      "Ohio                     21386\n",
      "Virginia                 19528\n",
      "Kentucky                 18467\n",
      "Wisconsin                17908\n",
      "Tennessee                16954\n",
      "South Dakota             15318\n",
      "Alabama                  14779\n",
      "Rhode Island             13781\n",
      "Oklahoma                 13554\n",
      "Louisiana                12812\n",
      "Delaware                 12293\n",
      "Utah                     11421\n",
      "Kansas                   11089\n",
      "Arkansas                 10790\n",
      "Nebraska                 10229\n",
      "Nevada                    8833\n",
      "Mississippi               6664\n",
      "Maine                     6135\n",
      "Alaska                    5512\n",
      "Vermont                   4986\n",
      "Wyoming                   3724\n",
      "District of Columbia      3066\n",
      "New Hampshire             1604\n",
      "North Dakota              1600\n",
      "West Virginia             1478\n",
      "Hawaii                    1455\n",
      "Puerto Rico               1251\n",
      "Montana                   1178\n",
      "Name: count, dtype: int64!\n"
     ]
    }
   ],
   "source": [
    "# Location by state\n",
    "states = {1: 'Alabama', 2: 'Alaska', 4: 'Arizona', 5: 'Arkansas', 6: 'California', 8: 'Colorado', 9: 'Connecticut', 10: 'Delaware', 11: 'District of Columbia', 12: 'Florida', 13: 'Georgia', 15: 'Hawaii', 17: 'Illinois', 18: 'Indiana', 19: 'Iowa', 20: 'Kansas', 21: 'Kentucky', 22: 'Louisiana', 23: 'Maine', 25: 'Massachusetts', 26: 'Michigan', 27: 'Minnesota', 28: 'Mississippi', 29: 'Missouri', 30: 'Montana', 31: 'Nebraska', 32: 'Nevada', 33: 'New Hampshire', 34: 'New Jersey', 36: 'New York', 37: 'North Carolina', 38: 'North Dakota', 39: 'Ohio', 40: 'Oklahoma', 42: 'Pennsylvania', 44: 'Rhode Island', 45: 'South Carolina', 46: 'South Dakota', 47: 'Tennessee', 48: 'Texas', 49: 'Utah', 50: 'Vermont', 51: 'Virginia', 54: 'West Virginia', 55: 'Wisconsin', 56: 'Wyoming', 72: 'Puerto Rico'}\n",
    "\n",
    "    # New column named Location_by_state\n",
    "df['Location_by_state'] = df['STFIPS'].map(states)\n",
    "\n",
    "location_state = df['Location_by_state'].value_counts()\n",
    "\n",
    "    # Print\n",
    "print(f'The unique state values are: {location_state}!')"
   ]
  },
  {
   "cell_type": "code",
   "execution_count": 12,
   "id": "912b0edf",
   "metadata": {},
   "outputs": [
    {
     "name": "stdout",
     "output_type": "stream",
     "text": [
      "The unique values of primary drug preference are: Primary_Drug_Preference\n",
      "Alcohol                         442014\n",
      "Heroin                          292126\n",
      "Methamphetamine                 167722\n",
      "Unknown                         139822\n",
      "Marijuana                       139481\n",
      "Opiates                          87200\n",
      "Cocaine                          71725\n",
      "None                             33568\n",
      "Benzodiazepines                  13679\n",
      "Other amphetamines                9367\n",
      "Other drugs                       6593\n",
      "PCP                               3692\n",
      "Other stimulants                  2224\n",
      "Hallucinogens                     1899\n",
      "Methadone                         1714\n",
      "Sedatives                         1471\n",
      "Barbiturates                       752\n",
      "Inhalants                          696\n",
      "Over-the-counter medications       493\n",
      "Tranquilizers                      119\n",
      "Name: count, dtype: int64!\n"
     ]
    }
   ],
   "source": [
    "# Primary drug preference\n",
    "drugs = {1: 'None', 2: 'Alcohol', 3: 'Cocaine', 4: 'Marijuana', 5: 'Heroin', 6: 'Methadone', 7: 'Opiates', 8: 'PCP', 9: 'Hallucinogens', 10: 'Methamphetamine', 11: 'Other amphetamines', 12: 'Other stimulants', 13: 'Benzodiazepines', 14: 'Tranquilizers', 15: 'Barbiturates', 16: 'Sedatives', 17: 'Inhalants', 18: 'Over-the-counter medications', 19: 'Other drugs', -9 : 'Unknown'}\n",
    "\n",
    "    # New column named Primary_Drug_Preference\n",
    "df['Primary_Drug_Preference'] = df['SUB1'].map(drugs)\n",
    "\n",
    "primary_drugs = df['Primary_Drug_Preference'].value_counts()\n",
    "\n",
    "    # Print\n",
    "print(f'The unique values of primary drug preference are: {primary_drugs}!')"
   ]
  },
  {
   "cell_type": "code",
   "execution_count": 10,
   "id": "cc3c92ad",
   "metadata": {},
   "outputs": [],
   "source": [
    "# Save cleaned data to a new CSV file\n",
    "df.to_csv('../Dataset/cleaned_data.csv', index=False)"
   ]
  },
  {
   "cell_type": "code",
   "execution_count": null,
   "id": "b3b44d2e",
   "metadata": {},
   "outputs": [],
   "source": []
  },
  {
   "cell_type": "code",
   "execution_count": null,
   "id": "93ce710a",
   "metadata": {},
   "outputs": [],
   "source": []
  },
  {
   "cell_type": "code",
   "execution_count": null,
   "id": "44632af5",
   "metadata": {},
   "outputs": [],
   "source": []
  }
 ],
 "metadata": {
  "kernelspec": {
   "display_name": "Python 3 (ipykernel)",
   "language": "python",
   "name": "python3"
  },
  "language_info": {
   "codemirror_mode": {
    "name": "ipython",
    "version": 3
   },
   "file_extension": ".py",
   "mimetype": "text/x-python",
   "name": "python",
   "nbconvert_exporter": "python",
   "pygments_lexer": "ipython3",
   "version": "3.11.5"
  }
 },
 "nbformat": 4,
 "nbformat_minor": 5
}
